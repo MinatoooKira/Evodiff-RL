{
 "cells": [
  {
   "cell_type": "markdown",
   "id": "ffc24c00",
   "metadata": {},
   "source": [
    "# EvoDiff deployment on Azure AI Foundry\n",
    "This notebook demonstrates how to invoke the EvoDiff endpoint using Python on Azure AI Foundry."
   ]
  },
  {
   "cell_type": "markdown",
   "id": "36a2d718",
   "metadata": {},
   "source": [
    "## Prerequisites\n",
    "\n",
    "Before you can successfully invoke the endpoint, you need two key pieces of information that you must define in the code cells below:\n",
    "\n",
    "1.  **Endpoint URL**: This is the specific URL for your deployed EvoDiff model. You will need to replace the placeholder value in the `ENDPOINT_URL` variable in the code cell under 'Endpoint URL and API Key'.\n",
    "2.  **API Key**: This is the secret key required to authenticate with your endpoint. You will need to replace the placeholder value in the `API_KEY` variable in the code cell under 'Endpoint URL and API Key'.\n",
    "\n",
    "Once you have defined your endpoint URL and API key, this notebook will guide you through how to call the `generate` function with this input to get predictions from the model."
   ]
  },
  {
   "cell_type": "code",
   "execution_count": null,
   "id": "62538441",
   "metadata": {},
   "outputs": [],
   "source": [
    "import json\n",
    "import time\n",
    "import urllib.request\n",
    "from dataclasses import dataclass, asdict"
   ]
  },
  {
   "cell_type": "markdown",
   "id": "3c0c2aa2",
   "metadata": {},
   "source": [
    "## Endpoint URL and API Key\n",
    "\n",
    "**Important:** Replace the placeholder values below with your actual Endpoint URL and API Key."
   ]
  },
  {
   "cell_type": "code",
   "execution_count": null,
   "id": "52cdf326",
   "metadata": {},
   "outputs": [],
   "source": [
    "# Replace with your actual endpoint URL and API key\n",
    "ENDPOINT_URL = \"YOUR_ENDPOINT_URL_HERE\"  # e.g., \"https://my-model.ukeast.inference.ml.azure.com/score\"\n",
    "API_KEY = \"YOUR_API_KEY_HERE\""
   ]
  },
  {
   "cell_type": "markdown",
   "id": "5726424c",
   "metadata": {},
   "source": [
    "## Generate Function\n",
    "The call to the endpoint is wrapped in a funtion `generate`."
   ]
  },
  {
   "cell_type": "code",
   "execution_count": null,
   "id": "33333c68",
   "metadata": {},
   "outputs": [],
   "source": [
    "def generate(payload: dict[str, any]) -> dict[str, any]:\n",
    "    body = str.encode(json.dumps(payload))\n",
    "\n",
    "    headers = {\"Content-Type\": \"application/json\", \"Authorization\": (\"Bearer \" + API_KEY)}\n",
    "\n",
    "    req = urllib.request.Request(ENDPOINT_URL, body, headers)\n",
    "\n",
    "    try:\n",
    "        response = urllib.request.urlopen(req)\n",
    "        result = json.loads(response.read())\n",
    "        return result\n",
    "    except urllib.error.HTTPError as error:\n",
    "        print(\"The request failed with status code: \" + str(error.code))\n",
    "        print(error.info())\n",
    "        print(error.read().decode(\"utf8\", \"ignore\"))\n",
    "        raise error"
   ]
  },
  {
   "cell_type": "markdown",
   "id": "b35f131a",
   "metadata": {},
   "source": [
    "## Simplified Input Dataclass\n",
    "The paremeters of the endpoint is wrapped in a dataclass to simplify the payload in the request."
   ]
  },
  {
   "cell_type": "code",
   "execution_count": null,
   "id": "9f8a46ee",
   "metadata": {},
   "outputs": [],
   "source": [
    "@dataclass\n",
    "class EvoDiffInput:\n",
    "    sequence: str\n",
    "    count: int = 1\n",
    "    nonstandard_aas: bool = False\n",
    "    sampling_t: float = 1.0\n",
    "    repeat_penalty: float | None = None\n",
    "\n",
    "    def to_payload(self) -> dict[str, any]:\n",
    "        data = asdict(self)\n",
    "        # Remove fields with None values, as the endpoint might not expect them or handle them as default if not present\n",
    "        filtered_data = {k: v for k, v in data.items() if v is not None}\n",
    "        return {\"input_data\": {\"columns\": list(filtered_data.keys()), \"index\": [0], \"data\": [list(filtered_data.values())]}}\n",
    "    \n",
    "\n",
    "def run_evodiff(\n",
    "        sequence: str, \n",
    "        count: int =1, \n",
    "        nonstandard_aas: bool =False, \n",
    "        sampling_t: float =1.0, \n",
    "        repeat_penalty: float =None):\n",
    "    \n",
    "    # Create input object and convert to payload\n",
    "    input_obj = EvoDiffInput(\n",
    "        sequence=sequence, \n",
    "        count=count,\n",
    "        nonstandard_aas=nonstandard_aas,\n",
    "        sampling_t=sampling_t,\n",
    "        repeat_penalty=repeat_penalty\n",
    "    )\n",
    "    input_payload = input_obj.to_payload()\n",
    "    \n",
    "    # Print input payload for reference\n",
    "    print(f\"Input Payload: {json.dumps(input_payload, indent=2)}\")\n",
    "    \n",
    "    # Call the model and measure time\n",
    "    start_ts = time.time()\n",
    "    result = generate(input_payload)\n",
    "    time_taken = time.time() - start_ts\n",
    "    \n",
    "    # Print results\n",
    "    print(f\"Result: {json.dumps(result, indent=2)}\")\n",
    "    print(f\"Time taken: {time_taken:.2f} seconds\")\n",
    "    \n",
    "    return result"
   ]
  },
  {
   "cell_type": "markdown",
   "id": "3b9292a9",
   "metadata": {},
   "source": [
    "## Example Usage"
   ]
  },
  {
   "cell_type": "markdown",
   "id": "ff010b92",
   "metadata": {},
   "source": [
    "### Unconditional generation\n",
    "Use EvoDiff to generate 5 sequences of length 100, unconditionally"
   ]
  },
  {
   "cell_type": "code",
   "execution_count": null,
   "id": "dcf7fd53",
   "metadata": {},
   "outputs": [],
   "source": [
    "sequence = \"####################################################################################################\" # Input sequence with '#' as mask tokens to be filled. \n",
    "\n",
    "result = run_evodiff(sequence, count=5)"
   ]
  },
  {
   "cell_type": "markdown",
   "id": "b909a367",
   "metadata": {},
   "source": [
    "### Conditional generation: scaffolding the calcium binding site of calmodulin \n",
    "Use EvoDiff to generate 10 scaffolds, 100 residues in length, for the calcium binding motifs in 1PRW \n",
    "\n",
    "Binding motifs: \n",
    "\n",
    "**Residues** 16-35 (FSLFDKDGDGTITTKELGTV)\n",
    "\n",
    "**Residues** 52-71 (INEVDADGNGTIDFPEFLTM)"
   ]
  },
  {
   "cell_type": "code",
   "execution_count": null,
   "id": "5633adad",
   "metadata": {},
   "outputs": [],
   "source": [
    "sequence = \"########################FSLFDKDGDGTITTKELGTV###############################INEVDADGNGTIDFPEFLTM#############################################\" # Input sequence with '#' as mask tokens to be filled. Use standard amino acid letters for fixed positions.\n",
    "\n",
    "result = run_evodiff(sequence, count=10)"
   ]
  },
  {
   "cell_type": "markdown",
   "id": "26a79db3",
   "metadata": {},
   "source": [
    "### Additional parameters\n",
    "\n",
    "We also make available additional parameters; \n",
    "\n",
    "* `nonstandard_aas`. Set `True` to include non-standard amino acids in sampling. Default: False (only standard 20 AAs). Enable only for specialized applications.\n",
    "\n",
    "* `sampling_t` By default `sampling_t=1.0`. Temperature for sampling: higher values (>1.0) increase diversity, lower values (<1.0) increase conservatism. Default: `1.0`\n",
    "\n",
    "* `repeat_penalty` Penalty to reduce adjacent amino acid repeats. Recommended values: 1.2-2.0. Default: `None` (no penalty). Higher values more aggressively prevent repeats.\n"
   ]
  },
  {
   "cell_type": "code",
   "execution_count": null,
   "id": "6295bce1",
   "metadata": {},
   "outputs": [],
   "source": [
    "sequence = \"####################################################################################################\" # Input sequence with '#' as mask tokens to be filled. \n",
    "count = 5 # number of sequences to generate\n",
    "\n",
    "result = run_evodiff(sequence=sequence, count=count, nonstandard_aas=True, sampling_t=0.5, repeat_penalty=1.2)"
   ]
  },
  {
   "cell_type": "markdown",
   "id": "ead22f4e",
   "metadata": {},
   "source": [
    "### Note\n",
    "\n",
    "-   Replace placeholder values (endpoint URL, payload) with your actual data.\n",
    "-   Consult the documentation for your specific Evodiff endpoint to understand the expected request payload format and the structure of the response."
   ]
  }
 ],
 "metadata": {
  "language_info": {
   "name": "python"
  }
 },
 "nbformat": 4,
 "nbformat_minor": 5
}
